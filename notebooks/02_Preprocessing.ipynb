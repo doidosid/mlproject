{
 "cells": [
  {
   "cell_type": "code",
   "execution_count": 16,
   "metadata": {},
   "outputs": [],
   "source": [
    "import pandas as pd\n",
    "import numpy as np\n",
    "import re\n",
    "from collections import Counter\n",
    "import matplotlib.pyplot as plt\n",
    "import seaborn as sns\n",
    "\n",
    "# 한글 폰트 설정\n",
    "plt.rcParams['font.family'] = 'AppleGothic'\n",
    "plt.rcParams['axes.unicode_minus'] = False"
   ]
  },
  {
   "cell_type": "code",
   "execution_count": 17,
   "metadata": {},
   "outputs": [],
   "source": [
    "df = pd.read_csv('../data/raw/korean_sentiment_dataset.csv')\n"
   ]
  },
  {
   "cell_type": "code",
   "execution_count": 18,
   "metadata": {},
   "outputs": [],
   "source": [
    "def clean_text(text):\n",
    "    if pd.isna(text):\n",
    "        return \"\"\n",
    "    \n",
    "    text = re.sub(r'[^가-힣a-zA-Z0-9\\s]','',str(text))\n",
    "    text = re.sub(r'\\s+',' ',text).strip()\n",
    "    return text\n",
    "\n",
    "STOPWORDS = ['이', '그', '저', '것', '의', '가', '을', '를', '에', '에서', '로', '으로', '와', '과', '은', '는', '이다', '하다']\n",
    "\n",
    "def remove_stopwords(text):\n",
    "    words = text.split()\n",
    "    return ' '.join([word for word in words if word not in STOPWORDS and len(word) > 1])\n",
    "\n",
    "    "
   ]
  },
  {
   "cell_type": "code",
   "execution_count": 19,
   "metadata": {},
   "outputs": [
    {
     "name": "stdout",
     "output_type": "stream",
     "text": [
      "전처리 후 데이터 크기: (3000, 3)\n",
      "\n",
      "전처리 결과:\n",
      "원본: 그냥 사람들 앞에 서는 게 너무 무서워요 괜히입니다.\n",
      "처리: 그냥 사람들 앞에 서는 너무 무서워요 괜히입니다\n",
      "\n",
      "원본: 솔직히 계속 가슴이 답답하고 조마조마해요입니다.\n",
      "처리: 솔직히 계속 가슴이 답답하고 조마조마해요입니다\n",
      "\n",
      "원본: 작은 일에도 깜짝깜짝 놀라요 정말했어요.\n",
      "처리: 작은 일에도 깜짝깜짝 놀라요 정말했어요\n",
      "\n"
     ]
    }
   ],
   "source": [
    "df['processed_text'] = df['text'].apply(clean_text).apply(remove_stopwords)\n",
    "df[df['processed_text'].str.len() > 0].reset_index(drop=True)\n",
    "print(f\"전처리 후 데이터 크기: {df.shape}\")\n",
    "\n",
    "# 결과 확인 (3개만)\n",
    "print(\"\\n전처리 결과:\")\n",
    "for i in range(3):\n",
    "    print(f\"원본: {df.iloc[i]['text']}\")\n",
    "    print(f\"처리: {df.iloc[i]['processed_text']}\")\n",
    "    print()"
   ]
  },
  {
   "cell_type": "code",
   "execution_count": 20,
   "metadata": {},
   "outputs": [
    {
     "name": "stdout",
     "output_type": "stream",
     "text": [
      "💾 저장 완료: (3000, 2)\n"
     ]
    }
   ],
   "source": [
    "final_df = df[['processed_text', 'label']].copy()\n",
    "final_df.rename(columns={'processed_text' : 'text'}, inplace=True)\n",
    "\n",
    "final_df.to_csv('../data/processed/korean_sentiment_dataset.csv', index=False, encoding='utf-8')\n",
    "print(f\"💾 저장 완료: {final_df.shape}\")"
   ]
  }
 ],
 "metadata": {
  "kernelspec": {
   "display_name": ".venv",
   "language": "python",
   "name": "python3"
  },
  "language_info": {
   "codemirror_mode": {
    "name": "ipython",
    "version": 3
   },
   "file_extension": ".py",
   "mimetype": "text/x-python",
   "name": "python",
   "nbconvert_exporter": "python",
   "pygments_lexer": "ipython3",
   "version": "3.10.11"
  }
 },
 "nbformat": 4,
 "nbformat_minor": 4
}
