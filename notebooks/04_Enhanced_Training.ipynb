{
 "cells": [
  {
   "cell_type": "markdown",
   "id": "92bae2ac",
   "metadata": {},
   "source": [
    "# 🔄 모델 재훈련 (증강된 데이터)\n",
    "증강된 데이터셋으로 모델을 재훈련하여 성능을 개선합니다."
   ]
  },
  {
   "cell_type": "code",
   "execution_count": 15,
   "id": "834598cd",
   "metadata": {},
   "outputs": [],
   "source": [
    "import pandas as pd\n",
    "import numpy as np\n",
    "import re\n",
    "from sklearn.model_selection import train_test_split\n",
    "from sklearn.feature_extraction.text import TfidfVectorizer\n",
    "from sklearn.linear_model import LogisticRegression\n",
    "from sklearn.svm import SVC\n",
    "from sklearn.ensemble import RandomForestClassifier\n",
    "from sklearn.metrics import classification_report, accuracy_score, confusion_matrix\n",
    "import joblib\n",
    "import matplotlib.pyplot as plt\n",
    "import seaborn as sns\n",
    "\n",
    "# 한글 폰트 설정\n",
    "plt.rcParams['font.family'] = 'AppleGothic'\n",
    "plt.rcParams['axes.unicode_minus'] = False"
   ]
  },
  {
   "cell_type": "code",
   "execution_count": 16,
   "id": "edffb713",
   "metadata": {},
   "outputs": [
    {
     "name": "stdout",
     "output_type": "stream",
     "text": [
      "📊 증강된 데이터 로드\n",
      "==================================================\n",
      "데이터 크기: (3020, 2)\n",
      "라벨 분포:\n",
      "  우울: 1020개\n",
      "  불안: 1000개\n",
      "  정상: 1000개\n"
     ]
    },
    {
     "data": {
      "text/html": [
       "<div>\n",
       "<style scoped>\n",
       "    .dataframe tbody tr th:only-of-type {\n",
       "        vertical-align: middle;\n",
       "    }\n",
       "\n",
       "    .dataframe tbody tr th {\n",
       "        vertical-align: top;\n",
       "    }\n",
       "\n",
       "    .dataframe thead th {\n",
       "        text-align: right;\n",
       "    }\n",
       "</style>\n",
       "<table border=\"1\" class=\"dataframe\">\n",
       "  <thead>\n",
       "    <tr style=\"text-align: right;\">\n",
       "      <th></th>\n",
       "      <th>text</th>\n",
       "      <th>label</th>\n",
       "    </tr>\n",
       "  </thead>\n",
       "  <tbody>\n",
       "    <tr>\n",
       "      <th>0</th>\n",
       "      <td>그냥 사람들 앞에 서는 게 너무 무서워요 괜히입니다.</td>\n",
       "      <td>1</td>\n",
       "    </tr>\n",
       "    <tr>\n",
       "      <th>1</th>\n",
       "      <td>솔직히 계속 가슴이 답답하고 조마조마해요입니다.</td>\n",
       "      <td>1</td>\n",
       "    </tr>\n",
       "    <tr>\n",
       "      <th>2</th>\n",
       "      <td>작은 일에도 깜짝깜짝 놀라요 정말했어요.</td>\n",
       "      <td>1</td>\n",
       "    </tr>\n",
       "    <tr>\n",
       "      <th>3</th>\n",
       "      <td>사실은 하루하루가 너무 힘들어요입니다.</td>\n",
       "      <td>0</td>\n",
       "    </tr>\n",
       "    <tr>\n",
       "      <th>4</th>\n",
       "      <td>이상하게도 좋아하는 노래를 들으니 기분이 좋아졌어요 별 이유 없이싶어요.</td>\n",
       "      <td>2</td>\n",
       "    </tr>\n",
       "  </tbody>\n",
       "</table>\n",
       "</div>"
      ],
      "text/plain": [
       "                                       text  label\n",
       "0             그냥 사람들 앞에 서는 게 너무 무서워요 괜히입니다.      1\n",
       "1                솔직히 계속 가슴이 답답하고 조마조마해요입니다.      1\n",
       "2                    작은 일에도 깜짝깜짝 놀라요 정말했어요.      1\n",
       "3                     사실은 하루하루가 너무 힘들어요입니다.      0\n",
       "4  이상하게도 좋아하는 노래를 들으니 기분이 좋아졌어요 별 이유 없이싶어요.      2"
      ]
     },
     "execution_count": 16,
     "metadata": {},
     "output_type": "execute_result"
    }
   ],
   "source": [
    "# 🔄 증강된 데이터 로드\n",
    "print(\"📊 증강된 데이터 로드\")\n",
    "print(\"=\"*50)\n",
    "\n",
    "df = pd.read_csv('../data/raw/enhanced_korean_sentiment_dataset.csv')\n",
    "print(f\"데이터 크기: {df.shape}\")\n",
    "print(f\"라벨 분포:\")\n",
    "for label in [0, 1, 2]:\n",
    "    emotion = ['우울', '불안', '정상'][label]\n",
    "    count = len(df[df['label'] == label])\n",
    "    print(f\"  {emotion}: {count}개\")\n",
    "\n",
    "df.head()"
   ]
  },
  {
   "cell_type": "code",
   "execution_count": 17,
   "id": "f2e09943",
   "metadata": {},
   "outputs": [
    {
     "name": "stdout",
     "output_type": "stream",
     "text": [
      "🔧 텍스트 전처리 중...\n",
      "전처리 후 데이터 크기: (3020, 3)\n",
      "전처리 샘플:\n",
      "원본: 그냥 사람들 앞에 서는 게 너무 무서워요 괜히입니다.\n",
      "처리: 그냥 사람들 앞에 서는 너무 무서워요 괜히입니다\n",
      "\n",
      "원본: 솔직히 계속 가슴이 답답하고 조마조마해요입니다.\n",
      "처리: 솔직히 계속 가슴이 답답하고 조마조마해요입니다\n",
      "\n",
      "원본: 작은 일에도 깜짝깜짝 놀라요 정말했어요.\n",
      "처리: 작은 일에도 깜짝깜짝 놀라요 정말했어요\n",
      "\n"
     ]
    }
   ],
   "source": [
    "# 🔧 전처리 함수 (기존과 동일)\n",
    "def clean_text(text):\n",
    "    if pd.isna(text):\n",
    "        return \"\"\n",
    "    text = re.sub(r'[^가-힣a-zA-Z0-9\\s]','',str(text))\n",
    "    text = re.sub(r'\\s+',' ',text).strip()\n",
    "    return text\n",
    "\n",
    "STOPWORDS = ['이', '그', '저', '것', '의', '가', '을', '를', '에', '에서', '로', '으로', '와', '과', '은', '는', '이다', '하다']\n",
    "\n",
    "def remove_stopwords(text):\n",
    "    words = text.split()\n",
    "    return ' '.join([word for word in words if word not in STOPWORDS and len(word) > 1])\n",
    "\n",
    "# 전처리 적용\n",
    "print(\"🔧 텍스트 전처리 중...\")\n",
    "df['processed_text'] = df['text'].apply(clean_text).apply(remove_stopwords)\n",
    "df = df[df['processed_text'].str.len() > 0].reset_index(drop=True)\n",
    "\n",
    "print(f\"전처리 후 데이터 크기: {df.shape}\")\n",
    "print(\"전처리 샘플:\")\n",
    "for i in range(3):\n",
    "    print(f\"원본: {df.iloc[i]['text']}\")\n",
    "    print(f\"처리: {df.iloc[i]['processed_text']}\")\n",
    "    print()"
   ]
  },
  {
   "cell_type": "code",
   "execution_count": 18,
   "id": "3f8b593c",
   "metadata": {},
   "outputs": [
    {
     "name": "stdout",
     "output_type": "stream",
     "text": [
      "🎯 모델 훈련 시작\n",
      "==================================================\n",
      "훈련 데이터: 2416개\n",
      "테스트 데이터: 604개\n",
      "\n",
      "📊 TF-IDF 벡터화...\n",
      "TF-IDF 특성 수: 1226\n",
      "TF-IDF 특성 수: 1226\n"
     ]
    }
   ],
   "source": [
    "# 🎯 모델 훈련\n",
    "print(\"🎯 모델 훈련 시작\")\n",
    "print(\"=\"*50)\n",
    "\n",
    "# 데이터 분할\n",
    "X = df['processed_text']\n",
    "y = df['label']\n",
    "\n",
    "X_train, X_test, y_train, y_test = train_test_split(\n",
    "    X, y, test_size=0.2, random_state=42, stratify=y\n",
    ")\n",
    "\n",
    "print(f\"훈련 데이터: {len(X_train)}개\")\n",
    "print(f\"테스트 데이터: {len(X_test)}개\")\n",
    "\n",
    "# TF-IDF 벡터화\n",
    "print(\"\\n📊 TF-IDF 벡터화...\")\n",
    "tfidf = TfidfVectorizer(\n",
    "    max_features=3000,\n",
    "    ngram_range=(1, 2),\n",
    "    min_df=2\n",
    ")\n",
    "\n",
    "X_train_tfidf = tfidf.fit_transform(X_train)\n",
    "X_test_tfidf = tfidf.transform(X_test)\n",
    "\n",
    "print(f\"TF-IDF 특성 수: {X_train_tfidf.shape[1]}\")"
   ]
  },
  {
   "cell_type": "code",
   "execution_count": 19,
   "id": "61480b5b",
   "metadata": {},
   "outputs": [
    {
     "name": "stdout",
     "output_type": "stream",
     "text": [
      "\n",
      "🔧 Logistic Regression 훈련 중...\n",
      "정확도: 1.0000\n",
      "\n",
      "분류 보고서:\n",
      "              precision    recall  f1-score   support\n",
      "\n",
      "          우울       1.00      1.00      1.00       204\n",
      "          불안       1.00      1.00      1.00       200\n",
      "          정상       1.00      1.00      1.00       200\n",
      "\n",
      "    accuracy                           1.00       604\n",
      "   macro avg       1.00      1.00      1.00       604\n",
      "weighted avg       1.00      1.00      1.00       604\n",
      "\n",
      "              precision    recall  f1-score   support\n",
      "\n",
      "          우울       1.00      1.00      1.00       204\n",
      "          불안       1.00      1.00      1.00       200\n",
      "          정상       1.00      1.00      1.00       200\n",
      "\n",
      "    accuracy                           1.00       604\n",
      "   macro avg       1.00      1.00      1.00       604\n",
      "weighted avg       1.00      1.00      1.00       604\n",
      "\n"
     ]
    },
    {
     "data": {
      "image/png": "[encoded data removed]",
      "text/plain": [
       "<Figure size 600x400 with 2 Axes>"
      ]
     },
     "metadata": {},
     "output_type": "display_data"
    },
    {
     "name": "stdout",
     "output_type": "stream",
     "text": [
      "\n",
      "🔧 SVM 훈련 중...\n",
      "정확도: 1.0000\n",
      "\n",
      "분류 보고서:\n",
      "              precision    recall  f1-score   support\n",
      "\n",
      "          우울       1.00      1.00      1.00       204\n",
      "          불안       1.00      1.00      1.00       200\n",
      "          정상       1.00      1.00      1.00       200\n",
      "\n",
      "    accuracy                           1.00       604\n",
      "   macro avg       1.00      1.00      1.00       604\n",
      "weighted avg       1.00      1.00      1.00       604\n",
      "\n",
      "정확도: 1.0000\n",
      "\n",
      "분류 보고서:\n",
      "              precision    recall  f1-score   support\n",
      "\n",
      "          우울       1.00      1.00      1.00       204\n",
      "          불안       1.00      1.00      1.00       200\n",
      "          정상       1.00      1.00      1.00       200\n",
      "\n",
      "    accuracy                           1.00       604\n",
      "   macro avg       1.00      1.00      1.00       604\n",
      "weighted avg       1.00      1.00      1.00       604\n",
      "\n"
     ]
    },
    {
     "data": {
      "image/png": "[encoded data removed]",
      "text/plain": [
       "<Figure size 600x400 with 2 Axes>"
      ]
     },
     "metadata": {},
     "output_type": "display_data"
    },
    {
     "name": "stdout",
     "output_type": "stream",
     "text": [
      "\n",
      "🔧 Random Forest 훈련 중...\n",
      "정확도: 1.0000\n",
      "\n",
      "분류 보고서:\n",
      "              precision    recall  f1-score   support\n",
      "\n",
      "          우울       1.00      1.00      1.00       204\n",
      "          불안       1.00      1.00      1.00       200\n",
      "          정상       1.00      1.00      1.00       200\n",
      "\n",
      "    accuracy                           1.00       604\n",
      "   macro avg       1.00      1.00      1.00       604\n",
      "weighted avg       1.00      1.00      1.00       604\n",
      "\n",
      "정확도: 1.0000\n",
      "\n",
      "분류 보고서:\n",
      "              precision    recall  f1-score   support\n",
      "\n",
      "          우울       1.00      1.00      1.00       204\n",
      "          불안       1.00      1.00      1.00       200\n",
      "          정상       1.00      1.00      1.00       200\n",
      "\n",
      "    accuracy                           1.00       604\n",
      "   macro avg       1.00      1.00      1.00       604\n",
      "weighted avg       1.00      1.00      1.00       604\n",
      "\n"
     ]
    },
    {
     "data": {
      "image/png": "[encoded data removed]",
      "text/plain": [
       "<Figure size 600x400 with 2 Axes>"
      ]
     },
     "metadata": {},
     "output_type": "display_data"
    },
    {
     "name": "stdout",
     "output_type": "stream",
     "text": [
      "\n",
      "🏆 최고 모델: Logistic Regression\n",
      "🎯 최고 정확도: 1.0000\n"
     ]
    }
   ],
   "source": [
    "# 🤖 여러 모델 비교\n",
    "models = {\n",
    "    'Logistic Regression': LogisticRegression(random_state=42, max_iter=1000),\n",
    "    'SVM': SVC(random_state=42, probability=True),\n",
    "    'Random Forest': RandomForestClassifier(random_state=42, n_estimators=100)\n",
    "}\n",
    "\n",
    "results = {}\n",
    "emotion_names = ['우울', '불안', '정상']\n",
    "\n",
    "for name, model in models.items():\n",
    "    print(f\"\\n🔧 {name} 훈련 중...\")\n",
    "    model.fit(X_train_tfidf, y_train)\n",
    "    \n",
    "    # 예측\n",
    "    y_pred = model.predict(X_test_tfidf)\n",
    "    accuracy = accuracy_score(y_test, y_pred)\n",
    "    \n",
    "    results[name] = {\n",
    "        'model': model,\n",
    "        'accuracy': accuracy,\n",
    "        'predictions': y_pred\n",
    "    }\n",
    "    \n",
    "    print(f\"정확도: {accuracy:.4f}\")\n",
    "    print(\"\\n분류 보고서:\")\n",
    "    print(classification_report(y_test, y_pred, target_names=emotion_names))\n",
    "    \n",
    "    # 혼동 행렬\n",
    "    cm = confusion_matrix(y_test, y_pred)\n",
    "    plt.figure(figsize=(6, 4))\n",
    "    sns.heatmap(cm, annot=True, fmt='d', cmap='Blues', \n",
    "                xticklabels=emotion_names, yticklabels=emotion_names)\n",
    "    plt.title(f'{name} 혼동 행렬')\n",
    "    plt.ylabel('실제')\n",
    "    plt.xlabel('예측')\n",
    "    plt.show()\n",
    "\n",
    "# 최고 성능 모델 선택\n",
    "best_model_name = max(results, key=lambda x: results[x]['accuracy'])\n",
    "best_model = results[best_model_name]['model']\n",
    "best_accuracy = results[best_model_name]['accuracy']\n",
    "\n",
    "print(f\"\\n🏆 최고 모델: {best_model_name}\")\n",
    "print(f\"🎯 최고 정확도: {best_accuracy:.4f}\")"
   ]
  },
  {
   "cell_type": "code",
   "execution_count": 20,
   "id": "a6922a21",
   "metadata": {},
   "outputs": [
    {
     "name": "stdout",
     "output_type": "stream",
     "text": [
      "💾 모델 저장 중...\n",
      "✅ 모델 저장 완료!\n",
      "  - enhanced_model.pkl\n",
      "  - enhanced_tfidf_vectorizer.pkl\n",
      "\n",
      "모델 성능: 1.0000\n"
     ]
    }
   ],
   "source": [
    "# 💾 모델 저장\n",
    "print(\"💾 모델 저장 중...\")\n",
    "\n",
    "# 모델과 벡터라이저 저장\n",
    "joblib.dump(best_model, '../models/enhanced_model.pkl')\n",
    "joblib.dump(tfidf, '../models/enhanced_tfidf_vectorizer.pkl')\n",
    "\n",
    "print(f\"✅ 모델 저장 완료!\")\n",
    "print(f\"  - enhanced_model.pkl\")\n",
    "print(f\"  - enhanced_tfidf_vectorizer.pkl\")\n",
    "print(f\"\\n모델 성능: {best_accuracy:.4f}\")"
   ]
  },
  {
   "cell_type": "code",
   "execution_count": 21,
   "id": "04ba2ddc",
   "metadata": {},
   "outputs": [
    {
     "name": "stdout",
     "output_type": "stream",
     "text": [
      "🧪 새로운 모델 실전 테스트\n",
      "==================================================\n",
      "입력: '우울해요'\n",
      "처리: '우울해요'\n",
      "예측: 우울\n",
      "확률: ['0.619', '0.183', '0.197']\n",
      "------------------------------\n",
      "입력: '너무 우울하고 슬퍼요'\n",
      "처리: '너무 우울하고 슬퍼요'\n",
      "예측: 우울\n",
      "확률: ['0.779', '0.101', '0.119']\n",
      "------------------------------\n",
      "입력: '우울감이 심해요'\n",
      "처리: '우울감이 심해요'\n",
      "예측: 우울\n",
      "확률: ['0.363', '0.305', '0.332']\n",
      "------------------------------\n",
      "입력: '의욕이 전혀 없어요'\n",
      "처리: '의욕이 전혀 없어요'\n",
      "예측: 우울\n",
      "확률: ['0.496', '0.365', '0.139']\n",
      "------------------------------\n",
      "입력: '아무것도 하기 싫어요'\n",
      "처리: '아무것도 하기 싫어요'\n",
      "예측: 우울\n",
      "확률: ['0.894', '0.052', '0.054']\n",
      "------------------------------\n",
      "입력: '불안해서 가슴이 답답해요'\n",
      "처리: '불안해서 가슴이 답답해요'\n",
      "예측: 불안\n",
      "확률: ['0.036', '0.927', '0.038']\n",
      "------------------------------\n",
      "입력: '걱정이 너무 많아요'\n",
      "처리: '걱정이 너무 많아요'\n",
      "예측: 불안\n",
      "확률: ['0.363', '0.514', '0.123']\n",
      "------------------------------\n",
      "입력: '기분이 정말 좋아요'\n",
      "처리: '기분이 정말 좋아요'\n",
      "예측: 정상\n",
      "확률: ['0.038', '0.035', '0.928']\n",
      "------------------------------\n",
      "입력: '행복한 하루였어요'\n",
      "처리: '행복한 하루였어요'\n",
      "예측: 우울\n",
      "확률: ['0.363', '0.305', '0.332']\n",
      "------------------------------\n"
     ]
    }
   ],
   "source": [
    "# 🧪 새로운 모델 테스트\n",
    "print(\"🧪 새로운 모델 실전 테스트\")\n",
    "print(\"=\"*50)\n",
    "\n",
    "def test_enhanced_model(text):\n",
    "    # 전처리\n",
    "    cleaned = clean_text(text)\n",
    "    processed = remove_stopwords(cleaned)\n",
    "    \n",
    "    # 예측\n",
    "    text_tfidf = tfidf.transform([processed])\n",
    "    prediction = best_model.predict(text_tfidf)[0]\n",
    "    probability = best_model.predict_proba(text_tfidf)[0]\n",
    "    \n",
    "    emotion_map = {0: '우울', 1: '불안', 2: '정상'}\n",
    "    \n",
    "    print(f\"입력: '{text}'\")\n",
    "    print(f\"처리: '{processed}'\")\n",
    "    print(f\"예측: {emotion_map[prediction]}\")\n",
    "    print(f\"확률: {[f'{p:.3f}' for p in probability]}\")\n",
    "    print(\"-\" * 30)\n",
    "\n",
    "# 테스트 문장들 (우울 관련 포함)\n",
    "test_sentences = [\n",
    "    \"우울해요\",\n",
    "    \"너무 우울하고 슬퍼요\", \n",
    "    \"우울감이 심해요\",\n",
    "    \"의욕이 전혀 없어요\",\n",
    "    \"아무것도 하기 싫어요\",\n",
    "    \"불안해서 가슴이 답답해요\",\n",
    "    \"걱정이 너무 많아요\",\n",
    "    \"기분이 정말 좋아요\",\n",
    "    \"행복한 하루였어요\"\n",
    "]\n",
    "\n",
    "for sentence in test_sentences:\n",
    "    test_enhanced_model(sentence)"
   ]
  }
 ],
 "metadata": {
  "kernelspec": {
   "display_name": ".venv",
   "language": "python",
   "name": "python3"
  },
  "language_info": {
   "codemirror_mode": {
    "name": "ipython",
    "version": 3
   },
   "file_extension": ".py",
   "mimetype": "text/x-python",
   "name": "python",
   "nbconvert_exporter": "python",
   "pygments_lexer": "ipython3",
   "version": "3.10.11"
  }
 },
 "nbformat": 4,
 "nbformat_minor": 5
}
